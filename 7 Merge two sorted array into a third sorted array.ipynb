{
  "nbformat": 4,
  "nbformat_minor": 0,
  "metadata": {
    "colab": {
      "name": "Merge two sorted array into a third sorted array# Python program to merge # two sorted arrays   # Merge arr1[0..n1-1] and # arr2[0..n2-1] into # arr3[0..n1+n2-1] def mergeArrays(arr1, arr2, n1, n2):     arr3 = [None] * (n1 + n2)     i = 0     j = 0     .ipynb",
      "provenance": []
    },
    "kernelspec": {
      "name": "python3",
      "display_name": "Python 3"
    },
    "language_info": {
      "name": "python"
    }
  },
  "cells": [
    {
      "cell_type": "code",
      "execution_count": 1,
      "metadata": {
        "colab": {
          "base_uri": "https://localhost:8080/"
        },
        "id": "X-c-aPNatPdI",
        "outputId": "da63fbd9-c019-463a-c5e6-b27b74f38f8e"
      },
      "outputs": [
        {
          "output_type": "stream",
          "name": "stdout",
          "text": [
            "Array after merging\n",
            "1 2 3 4 5 6 7 8 "
          ]
        }
      ],
      "source": [
        "# Python program to merge two sorted arrays\n",
        " \n",
        "# Merge arr1[0..n1-1] and\n",
        "# arr2[0..n2-1] into\n",
        "# arr3[0..n1+n2-1]\n",
        "\n",
        "def mergeArrays(arr1, arr2, n1, n2):\n",
        "    arr3 = [None] * (n1 + n2)\n",
        "    i = 0\n",
        "    j = 0\n",
        "    k = 0\n",
        " \n",
        "    # Traverse both array\n",
        "    while i < n1 and j < n2:\n",
        "     \n",
        "        # Check if current element of first array is smaller than current element of second array. If yes, store first array element and increment first array index. Otherwise do same with second array\n",
        "        if arr1[i] < arr2[j]:\n",
        "            arr3[k] = arr1[i]\n",
        "            k = k + 1\n",
        "            i = i + 1\n",
        "        else:\n",
        "            arr3[k] = arr2[j]\n",
        "            k = k + 1\n",
        "            j = j + 1\n",
        "     \n",
        " \n",
        "    # Store remaining elements of first array\n",
        "    while i < n1:\n",
        "        arr3[k] = arr1[i];\n",
        "        k = k + 1\n",
        "        i = i + 1\n",
        " \n",
        "    # Store remaining elements of second array\n",
        "    while j < n2:\n",
        "        arr3[k] = arr2[j];\n",
        "        k = k + 1\n",
        "        j = j + 1\n",
        "    print(\"Array after merging\")\n",
        "    for i in range(n1 + n2):\n",
        "        print(str(arr3[i]), end = \" \")\n",
        " \n",
        "# Driver code\n",
        "arr1 = [1, 3, 5, 7]\n",
        "n1 = len(arr1)\n",
        " \n",
        "arr2 = [2, 4, 6, 8]\n",
        "n2 = len(arr2)\n",
        "mergeArrays(arr1, arr2, n1, n2);"
      ]
    },
    {
      "cell_type": "code",
      "source": [
        ""
      ],
      "metadata": {
        "id": "8LHK2mWVt3ee"
      },
      "execution_count": null,
      "outputs": []
    }
  ]
}