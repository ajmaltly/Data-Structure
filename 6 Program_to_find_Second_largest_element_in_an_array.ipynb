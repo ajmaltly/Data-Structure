{
  "nbformat": 4,
  "nbformat_minor": 0,
  "metadata": {
    "colab": {
      "name": "Program to find Second largest element in an array.ipynb",
      "provenance": []
    },
    "kernelspec": {
      "name": "python3",
      "display_name": "Python 3"
    },
    "language_info": {
      "name": "python"
    }
  },
  "cells": [
    {
      "cell_type": "code",
      "execution_count": 5,
      "metadata": {
        "colab": {
          "base_uri": "https://localhost:8080/"
        },
        "id": "FEkTQtw4ry6B",
        "outputId": "591c6d06-1548-4ac5-be53-e92f6fef603e"
      },
      "outputs": [
        {
          "output_type": "stream",
          "name": "stdout",
          "text": [
            "The second largest element is 34\n"
          ]
        }
      ],
      "source": [
        "# program to find second largest element in an array\n",
        " \n",
        "def print2largest(arr, arr_size):\n",
        "  \n",
        "  # There should be atleast two elements\n",
        "  if (arr_size < 2):  \n",
        "    print(\" Invalid Input \")\n",
        "    return\n",
        "  \n",
        "  # Sort the array\n",
        "  arr.sort\n",
        "  \n",
        "  # Start from second last element as the largest element is at last\n",
        "  for i in range(arr_size -2,-1,-1):\n",
        "  \n",
        "    # If the element is not equal to largest element\n",
        "    if (arr[i] != arr[arr_size - 1]) :\n",
        "     \n",
        "      print(\"The second largest element is\",\n",
        "            arr[i])\n",
        "      return\n",
        "  \n",
        "  print(\"There is no second largest element\")\n",
        " \n",
        "\n",
        "arr = [12, 35, 1, 10, 34, 1]\n",
        "n = len(arr)\n",
        "print2largest(arr, n)"
      ]
    }
  ]
}