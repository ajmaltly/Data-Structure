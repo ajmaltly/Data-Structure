{
  "nbformat": 4,
  "nbformat_minor": 0,
  "metadata": {
    "colab": {
      "name": "Find common elements in 3 sorted array.ipynb",
      "provenance": []
    },
    "kernelspec": {
      "name": "python3",
      "display_name": "Python 3"
    },
    "language_info": {
      "name": "python"
    }
  },
  "cells": [
    {
      "cell_type": "code",
      "execution_count": 4,
      "metadata": {
        "colab": {
          "base_uri": "https://localhost:8080/"
        },
        "id": "PKQ2rolSpP5b",
        "outputId": "7caf8169-947b-4820-b656-9b9d5f89ca9b"
      },
      "outputs": [
        {
          "output_type": "stream",
          "name": "stdout",
          "text": [
            "Common elements are\n",
            "3\n",
            "5\n",
            "7\n",
            "11\n",
            "13\n",
            "17\n",
            "19\n"
          ]
        }
      ],
      "source": [
        "# Python function to print common elements in three sorted arrays\n",
        "def findCommon(ar1, ar2, ar3, n1, n2, n3):\n",
        " \n",
        "    # Initialize starting indexes for ar1[], ar2[] and ar3[]\n",
        "    i, j, k = 0, 0, 0\n",
        " \n",
        "    # Iterate through three arrays while all arrays have elements\n",
        "    while (i < n1 and j < n2 and k < n3):\n",
        " \n",
        "        # If x = y and y = z, print any of them and move ahead\n",
        "        # in all arrays\n",
        "        if (ar1[i] == ar2[j] and ar2[j] == ar3[k]):\n",
        "            print (ar1[i]),\n",
        "            i += 1\n",
        "            j += 1\n",
        "            k += 1\n",
        " \n",
        "        # x < y\n",
        "        elif ar1[i] < ar2[j]:\n",
        "            i += 1\n",
        " \n",
        "        # y < z\n",
        "        elif ar2[j] < ar3[k]:\n",
        "            j += 1\n",
        " \n",
        "        # We reach here when x > y and z < y, i.e., z is smallest\n",
        "        else:\n",
        "            k += 1\n",
        " \n",
        "# Driver program to check above function\n",
        "ar1 = [1,2,3,4,5,6,7,8,9,10,11,12,13,14,15,16,17,18,19,20] #NATURAL NUMBER\n",
        "ar2 = [1,3,5,7,9,11,13,15,17,19] #ODD NUMBER\n",
        "ar3 = [2,3,5,7,11,13,17,19] #PRIME NUMBER\n",
        "n1 = len(ar1)\n",
        "n2 = len(ar2)\n",
        "n3 = len(ar3)\n",
        "print (\"Common elements are\"),\n",
        "findCommon(ar1, ar2, ar3, n1, n2, n3)"
      ]
    },
    {
      "cell_type": "code",
      "source": [
        ""
      ],
      "metadata": {
        "id": "bFjK3yuGpt56"
      },
      "execution_count": null,
      "outputs": []
    }
  ]
}