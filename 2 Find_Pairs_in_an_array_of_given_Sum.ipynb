{
  "nbformat": 4,
  "nbformat_minor": 0,
  "metadata": {
    "colab": {
      "name": "Find Pairs in an array of given Sum.ipynb",
      "provenance": []
    },
    "kernelspec": {
      "name": "python3",
      "display_name": "Python 3"
    },
    "language_info": {
      "name": "python"
    }
  },
  "cells": [
    {
      "cell_type": "code",
      "execution_count": 5,
      "metadata": {
        "colab": {
          "base_uri": "https://localhost:8080/"
        },
        "id": "ab0FVSKuwJlu",
        "outputId": "f3c8357d-49c5-43db-9ae8-0e4ca333ba0a"
      },
      "outputs": [
        {
          "output_type": "stream",
          "name": "stdout",
          "text": [
            "(0, 9)\n",
            "(4, 5)\n",
            "(7, 2)\n"
          ]
        }
      ],
      "source": [
        "a=[0,4,1,5,7,2,9]\n",
        "tj=()\n",
        "for i in range(0,len(a)):\n",
        "  for j in range(i+1,len(a)):\n",
        "    s=a[i]+a[j]\n",
        "    if s==9:\n",
        "      tj=(a[i],a[j])\n",
        "      print(tj)"
      ]
    },
    {
      "cell_type": "code",
      "source": [
        ""
      ],
      "metadata": {
        "id": "ZVtWOp1GwY86"
      },
      "execution_count": null,
      "outputs": []
    }
  ]
}