{
  "nbformat": 4,
  "nbformat_minor": 0,
  "metadata": {
    "colab": {
      "name": "Remove duplicate elements from an unsorted array.ipynb",
      "provenance": []
    },
    "kernelspec": {
      "name": "python3",
      "display_name": "Python 3"
    },
    "language_info": {
      "name": "python"
    }
  },
  "cells": [
    {
      "cell_type": "code",
      "execution_count": 2,
      "metadata": {
        "colab": {
          "base_uri": "https://localhost:8080/"
        },
        "id": "3G2xIhBUq9zY",
        "outputId": "bad6f8e9-82b7-4eb6-a52a-7dbe8a31632d"
      },
      "outputs": [
        {
          "output_type": "stream",
          "name": "stdout",
          "text": [
            "1 2 3 4 5 6 7 8 9 10 "
          ]
        }
      ],
      "source": [
        "# to remove the duplicates from the an unsorted array\n",
        "def removeDups(arr, n):\n",
        "\t\n",
        "\tmp = {i : 0 for i in arr}\n",
        "\tfor i in range(n):\t\n",
        "\t\tif mp[arr[i]] == 0:\n",
        "\t\t\tprint(arr[i], end = \" \")\n",
        "\t\t\tmp[arr[i]] = 1\n",
        "arr = [ 1, 1, 2, 2, 3, 3, 4, 4, 5, 5, 6, 6, 7, 7, 8, 8, 9, 9, 10]\n",
        "\n",
        "# len of array\n",
        "n = len(arr)\n",
        "\n",
        "removeDups(arr,n)"
      ]
    }
  ]
}