{
  "nbformat": 4,
  "nbformat_minor": 0,
  "metadata": {
    "colab": {
      "name": "Segreggate 0,s and 1,s in an array.ipynb",
      "provenance": []
    },
    "kernelspec": {
      "name": "python3",
      "display_name": "Python 3"
    },
    "language_info": {
      "name": "python"
    }
  },
  "cells": [
    {
      "cell_type": "code",
      "execution_count": 1,
      "metadata": {
        "colab": {
          "base_uri": "https://localhost:8080/"
        },
        "id": "KqAb0dAZw9S8",
        "outputId": "b7a08558-7356-4fc8-9e41-f90c58bb93d4"
      },
      "outputs": [
        {
          "output_type": "stream",
          "name": "stdout",
          "text": [
            "[1, 1, 1, 0, 0, 0, 0]\n"
          ]
        }
      ],
      "source": [
        "a=[1,0,0,1,0,1,0]\n",
        "b=[]\n",
        "c=[]\n",
        "h=[]\n",
        "for i in a:\n",
        "  if i==1:\n",
        "    b.append(i)\n",
        "  else:\n",
        "    c.append(i)  \n",
        "h=b+c    \n",
        "print(h)    "
      ]
    },
    {
      "cell_type": "code",
      "source": [
        ""
      ],
      "metadata": {
        "id": "9NQqAzOexxEg"
      },
      "execution_count": null,
      "outputs": []
    }
  ]
}