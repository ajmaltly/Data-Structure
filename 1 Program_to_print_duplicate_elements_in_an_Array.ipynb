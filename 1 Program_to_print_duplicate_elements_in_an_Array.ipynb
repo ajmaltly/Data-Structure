{
  "nbformat": 4,
  "nbformat_minor": 0,
  "metadata": {
    "colab": {
      "name": "Program to print duplicate elements in an Array.ipynb",
      "provenance": []
    },
    "kernelspec": {
      "name": "python3",
      "display_name": "Python 3"
    },
    "language_info": {
      "name": "python"
    }
  },
  "cells": [
    {
      "cell_type": "code",
      "execution_count": 1,
      "metadata": {
        "colab": {
          "base_uri": "https://localhost:8080/"
        },
        "id": "4yk_8CvZoKBu",
        "outputId": "a0e5db24-1b5a-411b-89ac-0c001fc4a50e"
      },
      "outputs": [
        {
          "output_type": "stream",
          "name": "stdout",
          "text": [
            "Duplicate elements in given array: \n",
            "2\n",
            "4\n",
            "6\n",
            "8\n",
            "10\n"
          ]
        }
      ],
      "source": [
        "#Initialize array     \n",
        "arr = [1, 2, 3, 4, 5, 6, 7, 8, 9, 10, 2, 4, 6, 8, 10];     \n",
        "     \n",
        "print(\"Duplicate elements in given array: \");    \n",
        "\n",
        "#Searches for duplicate element    \n",
        "for i in range(0, len(arr)):    \n",
        "    for j in range(i+1, len(arr)):    \n",
        "        if(arr[i] == arr[j]):    \n",
        "            print(arr[j]);   "
      ]
    },
    {
      "cell_type": "code",
      "source": [
        ""
      ],
      "metadata": {
        "id": "wEUONb2RoRq1"
      },
      "execution_count": null,
      "outputs": []
    }
  ]
}